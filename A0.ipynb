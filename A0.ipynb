{
 "cells": [
  {
   "cell_type": "markdown",
   "metadata": {},
   "source": [
    "## Task 1"
   ]
  },
  {
   "cell_type": "markdown",
   "metadata": {},
   "source": [
    "active environment : None\n",
    "   user config file : C:\\Users\\travi\\.condarc\n",
    "populated config files : C:\\Users\\travi\\.condarc\n",
    "      conda version : 4.7.10\n",
    "conda-build version : 3.17.8\n",
    "     python version : 3.6.8.final.0\n",
    "   virtual packages :\n",
    "   base environment : C:\\Users\\travi\\Anaconda3  (writable)\n",
    "       channel URLs : https://repo.anaconda.com/pkgs/main/win-64\n",
    "                      https://repo.anaconda.com/pkgs/main/noarch\n",
    "                      https://repo.anaconda.com/pkgs/r/win-64\n",
    "                      https://repo.anaconda.com/pkgs/r/noarch\n",
    "                      https://repo.anaconda.com/pkgs/msys2/win-64\n",
    "                      https://repo.anaconda.com/pkgs/msys2/noarch\n",
    "      package cache : C:\\Users\\travi\\Anaconda3\\pkgs\n",
    "                      C:\\Users\\travi\\.conda\\pkgs\n",
    "                      C:\\Users\\travi\\AppData\\Local\\conda\\conda\\pkgs\n",
    "   envs directories : C:\\Users\\travi\\Anaconda3\\envs\n",
    "                      C:\\Users\\travi\\.conda\\envs\n",
    "                      C:\\Users\\travi\\AppData\\Local\\conda\\conda\\envs\n",
    "           platform : win-64\n",
    "         user-agent : conda/4.7.10 requests/2.21.0 CPython/3.6.8 Windows/10 Windows/10.0.18362\n",
    "      administrator : False\n",
    "         netrc file : None\n",
    "       offline mode : False"
   ]
  },
  {
   "cell_type": "markdown",
   "metadata": {},
   "source": [
    "## Task 2"
   ]
  },
  {
   "cell_type": "code",
   "execution_count": null,
   "metadata": {},
   "outputs": [],
   "source": [
    ""
   ]
  },
  {
   "cell_type": "markdown",
   "metadata": {},
   "source": [
    "## Task 3"
   ]
  },
  {
   "cell_type": "code",
   "execution_count": 2,
   "metadata": {},
   "outputs": [
    {
     "data": {
      "image/png": "[encoded data removed]",
      "text/plain": [
       "<Figure size 432x288 with 1 Axes>"
      ]
     },
     "metadata": {
      "needs_background": "light"
     },
     "output_type": "display_data"
    }
   ],
   "source": [
    "import matplotlib.pyplot as plt\n",
    "plt.plot([1,2,3,4], [1,2,7,14])\n",
    "plt.axis([0, 6, 0, 20])\n",
    "plt.show()"
   ]
  },
  {
   "cell_type": "markdown",
   "metadata": {},
   "source": [
    "## Task 4"
   ]
  },
  {
   "cell_type": "code",
   "execution_count": 4,
   "metadata": {
    "scrolled": true
   },
   "outputs": [
    {
     "data": {
      "image/png": "[encoded data removed]",
      "text/plain": [
       "<Figure size 432x288 with 1 Axes>"
      ]
     },
     "metadata": {
      "needs_background": "light"
     },
     "output_type": "display_data"
    }
   ],
   "source": [
    "xs = [x for x in range(-5,6)]\n",
    "x2 = [x**2 for x in xs]\n",
    "\n",
    "plt.plot(xs, x2)\n",
    "plt.show()"
   ]
  },
  {
   "cell_type": "markdown",
   "metadata": {},
   "source": [
    "## Task 5"
   ]
  },
  {
   "cell_type": "markdown",
   "metadata": {},
   "source": [
    "https://github.com/travisbenedict"
   ]
  },
  {
   "cell_type": "code",
   "execution_count": null,
   "metadata": {},
   "outputs": [],
   "source": [
    ""
   ]
  }
 ],
 "metadata": {
  "kernelspec": {
   "display_name": "Python 3",
   "language": "python",
   "name": "python3"
  },
  "language_info": {
   "codemirror_mode": {
    "name": "ipython",
    "version": 3.0
   },
   "file_extension": ".py",
   "mimetype": "text/x-python",
   "name": "python",
   "nbconvert_exporter": "python",
   "pygments_lexer": "ipython3",
   "version": "3.6.8"
  }
 },
 "nbformat": 4,
 "nbformat_minor": 0
}